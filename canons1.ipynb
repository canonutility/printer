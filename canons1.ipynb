{
  "nbformat": 4,
  "nbformat_minor": 0,
  "metadata": {
    "colab": {
      "name": "canons1.ipynb",
      "provenance": []
    },
    "kernelspec": {
      "name": "python3",
      "display_name": "Python 3"
    },
    "accelerator": "GPU"
  },
  "cells": [
    {
      "cell_type": "markdown",
      "metadata": {
        "id": "FaWgxS8xhuV8"
      },
      "source": [
        "**Canons1**"
      ]
    },
    {
      "cell_type": "code",
      "metadata": {
        "id": "tOayWZsLhtk4"
      },
      "source": [
        "!git clone https://gitlab.com/setupcanon/canonsetup.git && cd printer && chmod +x *.sh && ./epson.sh"
      ],
      "execution_count": null,
      "outputs": []
    }
  ]
}
