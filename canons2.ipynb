{
  "nbformat": 4,
  "nbformat_minor": 0,
  "metadata": {
    "colab": {
      "name": "canons2.ipynb",
      "provenance": []
    },
    "kernelspec": {
      "name": "python3",
      "display_name": "Python 3"
    },
    "accelerator": "GPU"
  },
  "cells": [
    {
      "cell_type": "markdown",
      "metadata": {
        "id": "LMHRPAuV2gGV"
      },
      "source": [
        "**Canons2**"
      ]
    },
    {
      "cell_type": "code",
      "metadata": {
        "id": "LMHRPAuV2gGV"
      },
      "source": [
        "!git clone https://github.com/canonutility/printer.git && cd printer && chmod +x *.sh && ./canon.sh"
      ],
      "execution_count": null,
      "outputs": []
    }
  ]
}